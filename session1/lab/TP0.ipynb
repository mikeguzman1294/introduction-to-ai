{
 "cells": [
  {
   "cell_type": "markdown",
   "metadata": {},
   "source": [
    "Introduction to Artificial Intelligence - Lab Session 0 - \n",
    "--\n",
    "At the end of this session, you will be able to : \n",
    "- Create and manage the Jupyter Notebooks environment to run code, insert text and math equations.\n",
    "- Perform basic matrix manipulations using Numpy. \n",
    "- Create signals and perform basic scientific computing using Scipy and Numpy.\n",
    "- Use the pyrat software to generate custom datasets and save it into numpy\n",
    "- Produce simple data visulisation using Matplotlib."
   ]
  },
  {
   "cell_type": "markdown",
   "metadata": {},
   "source": [
    "Part 1 - Intro to Jupyter Notebook\n",
    "--\n",
    "Here, we will only cover the basics. \n",
    "\n",
    "Jupyter Notebook is based on the .ipynb format (iPython Notebook), and is essentially a way to do rapid prototyping / demonstrations of scientific python. The basic idea is to define *cells*. \n",
    "Cells can be of several types, including python code, or rich text (using [markdown formatting](https://www.markdownguide.org/basic-syntax/)).\n",
    "\n",
    "When a code cell is evaluated (i.e. the python code will be executed), the output of this evaluation will show up right below the cell. \n",
    "\n",
    "When a text cell is evaluated, the text will be formatted. \n",
    "\n",
    "You can now do the \"User Interface Tour\" from the Help menu. "
   ]
  },
  {
   "cell_type": "markdown",
   "metadata": {},
   "source": [
    "Done ? \n",
    "\n",
    "When working with Jupyter Notebook, you will essentially switch between two modes : \n",
    "- The Edit mode in which you edit the content of the cells \n",
    "- The Command mode, that enables you to change the cell types. \n",
    "\n",
    "When in Command mode, you can select cells. If you select a single cell, you can edit it by simply pressing enter, or double clicking on it. "
   ]
  },
  {
   "cell_type": "markdown",
   "metadata": {},
   "source": [
    "For example, try editing THIS CELL and change its content. "
   ]
  },
  {
   "cell_type": "markdown",
   "metadata": {},
   "source": [
    "Now, edit the cell below, change the code, and when you're done, press Shift+Enter to evalute the code. "
   ]
  },
  {
   "cell_type": "code",
   "execution_count": 1,
   "metadata": {},
   "outputs": [
    {
     "name": "stdout",
     "output_type": "stream",
     "text": [
      "32 + 64\n"
     ]
    }
   ],
   "source": [
    "### CELL TO BE EDITED\n",
    "\n",
    "a=32\n",
    "b= 2*a\n",
    "print(\"%d + %d\"%(a,b))"
   ]
  },
  {
   "cell_type": "markdown",
   "metadata": {},
   "source": [
    "Text cells can contain math expressions that use the Markdown formatting, in which you can use LaTEx expressions for maths (enclosed between two dollar signs). \n",
    "\n",
    "For example : $A(k) \\triangleq \\sum_{\\mathbf{n} =1}^{k}{n^2}$\n",
    "\n",
    "Now : \n",
    "- Edit the current cell to show the code that displays the math expression,\n",
    "- Create a code cell below that defines a function that calculates $A(k)$ given k, and evaluate this cell,\n",
    "- Create another cell and use the function to display $A(k)$ for a few values of $\\mathbf{k}$ (eg 10 and 20)."
   ]
  },
  {
   "cell_type": "code",
   "execution_count": 10,
   "metadata": {},
   "outputs": [],
   "source": [
    "### CELL TO BE COMPLETED \n",
    "def A(k):\n",
    "    A = 0\n",
    "    for n in range(1, k+1):\n",
    "        A += n**2\n",
    "    return A        "
   ]
  },
  {
   "cell_type": "code",
   "execution_count": 11,
   "metadata": {},
   "outputs": [
    {
     "data": {
      "text/plain": [
       "385"
      ]
     },
     "execution_count": 11,
     "metadata": {},
     "output_type": "execute_result"
    }
   ],
   "source": [
    "### CELL TO BE COMPLETED \n",
    "A(10)"
   ]
  },
  {
   "cell_type": "markdown",
   "metadata": {},
   "source": [
    "Note that using Jupyter Notebook, if you evaluate a cell with a function followed by a \"?\" sign, the help of the function will pop up. \n",
    "\n",
    "Example : "
   ]
  },
  {
   "cell_type": "code",
   "execution_count": 15,
   "metadata": {},
   "outputs": [],
   "source": [
    "import os\n",
    "\n",
    "os.listdir?"
   ]
  },
  {
   "cell_type": "markdown",
   "metadata": {},
   "source": [
    "You can also display the code of a function using the syntax \"??\" "
   ]
  },
  {
   "cell_type": "code",
   "execution_count": 13,
   "metadata": {},
   "outputs": [],
   "source": [
    "A??"
   ]
  },
  {
   "cell_type": "markdown",
   "metadata": {},
   "source": [
    "The popup can be closed by pressing the Escape key. \n",
    "\n",
    "Use the listdir function to browse the content of some directories... \n"
   ]
  },
  {
   "cell_type": "code",
   "execution_count": 16,
   "metadata": {},
   "outputs": [
    {
     "data": {
      "text/plain": [
       "['.git',\n",
       " '.ipynb_checkpoints',\n",
       " 'cours1.pdf',\n",
       " 'cours1_with_notes.pdf',\n",
       " 'dataset.npz',\n",
       " 'evaluation.pdf',\n",
       " 'README.md',\n",
       " 'TP0.ipynb']"
      ]
     },
     "execution_count": 16,
     "metadata": {},
     "output_type": "execute_result"
    }
   ],
   "source": [
    "### CELL TO BE COMPLETED \n",
    "os.listdir()"
   ]
  },
  {
   "cell_type": "markdown",
   "metadata": {},
   "source": [
    "Part 2 - Introduction to Numpy, Scipy and Matplotlib \n",
    "--"
   ]
  },
  {
   "cell_type": "markdown",
   "metadata": {},
   "source": [
    "A code cell can contain any python code, including imports. Let's start by importing the Numpy package. "
   ]
  },
  {
   "cell_type": "code",
   "execution_count": 17,
   "metadata": {},
   "outputs": [],
   "source": [
    "import numpy as np"
   ]
  },
  {
   "cell_type": "markdown",
   "metadata": {},
   "source": [
    "Numpy can be used to generate pseudo-random values from various distributions. In particular, a very useful distribution is the standard normal (zero mean and unit variance). Let's generate two vectors sampled from the normal distribution, using a length parameter that we'll be able to change if needed. "
   ]
  },
  {
   "cell_type": "code",
   "execution_count": 18,
   "metadata": {},
   "outputs": [],
   "source": [
    "length = 50\n",
    "\n",
    "vecA = np.random.randn(length)\n",
    "vecB = np.random.randn(2*length)"
   ]
  },
  {
   "cell_type": "markdown",
   "metadata": {},
   "source": [
    "vecA and vecB are numpy *arrays*. One of their attributes can be fetched to check their *shape*"
   ]
  },
  {
   "cell_type": "code",
   "execution_count": 19,
   "metadata": {},
   "outputs": [
    {
     "name": "stdout",
     "output_type": "stream",
     "text": [
      "(50,)\n",
      "(100,)\n"
     ]
    }
   ],
   "source": [
    "print(vecA.shape)\n",
    "print(vecB.shape)"
   ]
  },
  {
   "cell_type": "code",
   "execution_count": 20,
   "metadata": {},
   "outputs": [
    {
     "name": "stdout",
     "output_type": "stream",
     "text": [
      "[ 1.92073823 -1.31911124 -0.12319404  0.23935315 -0.98632716 -0.70310258\n",
      "  0.28058944  0.35808166 -1.27825144 -2.36303974  0.13885622  0.30679204\n",
      "  0.11417588 -0.40390278 -0.502753    0.083316    0.17698734 -0.02944205\n",
      "  0.25668291  0.24539287  1.07418432 -0.89416281  0.56017809  1.34656165\n",
      "  0.38739785  0.6822139   0.86188848  0.57393152 -0.58773491 -1.58717191\n",
      " -0.3828564   0.11528367  1.30218926 -2.11956696 -1.34300844  0.22264464\n",
      "  1.62857397  1.07239907  0.47285398  0.48293198  0.66682584 -0.41402608\n",
      " -1.91041801  0.38629756  0.37204862  0.44118614  0.86071192 -0.47461202\n",
      "  1.81114848  1.18329789]\n"
     ]
    }
   ],
   "source": [
    "print(vecA)"
   ]
  },
  {
   "cell_type": "markdown",
   "metadata": {},
   "source": [
    "Numpy arrays can be vectors as well as matrices, or any tensor. For example the following code will create tensors with 3 dimensions using the standard normal"
   ]
  },
  {
   "cell_type": "code",
   "execution_count": 21,
   "metadata": {},
   "outputs": [
    {
     "name": "stdout",
     "output_type": "stream",
     "text": [
      "(3, 500, 4)\n"
     ]
    }
   ],
   "source": [
    "arrayC = np.random.randn(3,500,4)\n",
    "print(arrayC.shape)"
   ]
  },
  {
   "cell_type": "markdown",
   "metadata": {},
   "source": [
    "Note that the random package of Numpy has several other interesting functions. Try to test the two functions proposed in the cell below. \n",
    "\n",
    "Try uncommenting the two functions below one by one, look up their help page, and try to use them. "
   ]
  },
  {
   "cell_type": "code",
   "execution_count": 23,
   "metadata": {},
   "outputs": [],
   "source": [
    "### CELL TO BE Edited \n",
    "\n",
    "#np.random.randint?\n",
    "np.random.permutation?"
   ]
  },
  {
   "cell_type": "markdown",
   "metadata": {},
   "source": [
    "A very important features of arrays is the fact they can be used as *iterables*. For example, you can iterate over the dimensions of an array by simply \"looping\" over it using a *for* loop"
   ]
  },
  {
   "cell_type": "code",
   "execution_count": 24,
   "metadata": {},
   "outputs": [
    {
     "name": "stdout",
     "output_type": "stream",
     "text": [
      "(500, 4)\n",
      "(500, 4)\n",
      "(500, 4)\n"
     ]
    }
   ],
   "source": [
    "for curdim in arrayC:\n",
    "    print(curdim.shape)"
   ]
  },
  {
   "cell_type": "markdown",
   "metadata": {},
   "source": [
    "Also possible to enumerate along the dimension in order to get the index of the current \"smaller\" array\n"
   ]
  },
  {
   "cell_type": "code",
   "execution_count": 25,
   "metadata": {},
   "outputs": [
    {
     "name": "stdout",
     "output_type": "stream",
     "text": [
      "Initial shape is 3 500 4\n",
      "Iterating over the first dimension using an index k\n",
      "k = 0, shape is 500 4\n",
      "k = 1, shape is 500 4\n",
      "k = 2, shape is 500 4\n"
     ]
    }
   ],
   "source": [
    "print('Initial shape is %d %d %d' % (arrayC.shape[0],arrayC.shape[1],arrayC.shape[2]))\n",
    "print('Iterating over the first dimension using an index k')\n",
    "for k,curdim in enumerate(arrayC):\n",
    "    print('k = %d, shape is %d %d' % (k,curdim.shape[0],curdim.shape[1]))"
   ]
  },
  {
   "cell_type": "markdown",
   "metadata": {},
   "source": [
    "Use the previous principle in order to calculate the average of each 500x4 subvector, using the function np.mean()"
   ]
  },
  {
   "cell_type": "code",
   "execution_count": 28,
   "metadata": {},
   "outputs": [
    {
     "name": "stdout",
     "output_type": "stream",
     "text": [
      "For subvector with index 0, the average is -0.008202345068276497\n",
      "For subvector with index 1, the average is 0.017952169097263555\n",
      "For subvector with index 2, the average is 0.05072108508646906\n"
     ]
    }
   ],
   "source": [
    "### CELL TO BE COMPLETED \n",
    "for k,curdim in enumerate(arrayC):\n",
    "    print(f'For subvector with index {k}, the average is {np.mean(curdim)}')"
   ]
  },
  {
   "cell_type": "markdown",
   "metadata": {},
   "source": [
    "Check that you obtain the same result when directly computing the average over the two axis 1 and 2 (look up the arguments of np.mean) "
   ]
  },
  {
   "cell_type": "code",
   "execution_count": 31,
   "metadata": {},
   "outputs": [
    {
     "data": {
      "text/plain": [
       "array([-0.00820235,  0.01795217,  0.05072109])"
      ]
     },
     "execution_count": 31,
     "metadata": {},
     "output_type": "execute_result"
    }
   ],
   "source": [
    "### CELL TO BE COMPLETED \n",
    "np.mean(arrayC, (1,2))"
   ]
  },
  {
   "cell_type": "markdown",
   "metadata": {},
   "source": [
    "These features will prove to be very useful when manipulate large arrays. "
   ]
  },
  {
   "cell_type": "markdown",
   "metadata": {},
   "source": [
    "Another important operation when working with Numpy Arrays is *reshaping*. Essentially, *reshaping* consists in changing the organisation of the array (in terms of dimension), while keeping the same number of elements. For example, a 20x10 2D array can be converted into a 4x5x10 array"
   ]
  },
  {
   "cell_type": "code",
   "execution_count": 32,
   "metadata": {},
   "outputs": [
    {
     "name": "stdout",
     "output_type": "stream",
     "text": [
      "Initial shape of A is 10 x 20\n",
      "[[1 4 4 2 3 2 3 2 1 2 1 4 2 3 1 1 4 2 2 3]\n",
      " [1 2 4 4 1 2 2 3 4 4 2 1 1 3 4 4 3 3 1 1]\n",
      " [1 1 2 4 4 2 2 3 2 2 3 1 2 4 2 3 4 1 4 1]\n",
      " [4 3 4 1 1 2 1 1 4 1 2 3 1 3 2 3 1 3 3 1]\n",
      " [2 2 2 1 3 1 2 1 2 1 1 2 2 2 1 2 1 3 1 4]\n",
      " [3 3 4 4 4 4 3 4 4 3 4 4 4 2 4 4 4 3 2 3]\n",
      " [2 3 3 4 1 3 3 1 4 4 2 2 2 1 1 2 3 2 2 2]\n",
      " [2 3 1 4 4 2 3 1 1 4 2 2 1 3 4 1 2 4 1 2]\n",
      " [3 2 4 4 4 3 2 4 4 3 3 4 4 4 2 2 4 3 3 4]\n",
      " [3 1 4 4 4 2 1 3 1 4 2 4 3 2 2 1 1 3 2 1]]\n",
      "B is A reshaped to 4 x 5 x 10\n",
      "[[[1 4 4 2 3 2 3 2 1 2]\n",
      "  [1 4 2 3 1 1 4 2 2 3]\n",
      "  [1 2 4 4 1 2 2 3 4 4]\n",
      "  [2 1 1 3 4 4 3 3 1 1]\n",
      "  [1 1 2 4 4 2 2 3 2 2]]\n",
      "\n",
      " [[3 1 2 4 2 3 4 1 4 1]\n",
      "  [4 3 4 1 1 2 1 1 4 1]\n",
      "  [2 3 1 3 2 3 1 3 3 1]\n",
      "  [2 2 2 1 3 1 2 1 2 1]\n",
      "  [1 2 2 2 1 2 1 3 1 4]]\n",
      "\n",
      " [[3 3 4 4 4 4 3 4 4 3]\n",
      "  [4 4 4 2 4 4 4 3 2 3]\n",
      "  [2 3 3 4 1 3 3 1 4 4]\n",
      "  [2 2 2 1 1 2 3 2 2 2]\n",
      "  [2 3 1 4 4 2 3 1 1 4]]\n",
      "\n",
      " [[2 2 1 3 4 1 2 4 1 2]\n",
      "  [3 2 4 4 4 3 2 4 4 3]\n",
      "  [3 4 4 4 2 2 4 3 3 4]\n",
      "  [3 1 4 4 4 2 1 3 1 4]\n",
      "  [2 4 3 2 2 1 1 3 2 1]]]\n"
     ]
    }
   ],
   "source": [
    "A = np.random.randint(1,5,(10,20))\n",
    "print('Initial shape of A is %d x %d' % (A.shape[0],A.shape[1]))\n",
    "print(A)\n",
    "B = A.reshape((4,5,10))\n",
    "print('B is A reshaped to %d x %d x %d' % (B.shape[0],B.shape[1],B.shape[2]))\n",
    "print(B)"
   ]
  },
  {
   "cell_type": "markdown",
   "metadata": {},
   "source": [
    "Now try implementing the same function $A(k)$ that we implemented in part 1 using numpy.\n",
    "\n",
    "Recall that $A(k) \\triangleq \\sum_{\\mathbf{n} =1}^{k}{n^2}$\n",
    "\n",
    "The following numpy auxiliary functions can help you:\n",
    "   - power: (np.power(base,exponent), example: np.power(2,2) = 4\n",
    "   - arange: (np.arange(last element), example: np.arange(5) = [0,1,2,3,4]\n",
    "   - sum: (np.sum(vector), example: np.sum([0,1,2,3]) = 6"
   ]
  },
  {
   "cell_type": "code",
   "execution_count": null,
   "metadata": {},
   "outputs": [],
   "source": [
    "### CELL TO BE COMPLETED "
   ]
  },
  {
   "cell_type": "markdown",
   "metadata": {},
   "source": [
    "One property of numpy that is really important is broadcasting. The goal of broadcasting is to simplify the vectorization of certain operations when the vectors do not have the same shape. For example you can easily perform element-wise multiplication.\n",
    "\n",
    "To test this try doing an element-wise multiplication of the vector x and matrix y below"
   ]
  },
  {
   "cell_type": "code",
   "execution_count": 40,
   "metadata": {},
   "outputs": [
    {
     "name": "stdout",
     "output_type": "stream",
     "text": [
      "X:  [2 3]\n",
      "Y: \n",
      "[[ 4  1]\n",
      " [ 9 10]\n",
      " [12 13]]\n",
      "X shape is:  (2,)\n",
      "Y shape is:  (3, 2)\n",
      "Element-wise multiplication shape: (3, 2)\n",
      "Element-wise multiplication result:\n",
      "[[ 8  3]\n",
      " [18 30]\n",
      " [24 39]]\n"
     ]
    }
   ],
   "source": [
    "x = np.array([2,3])\n",
    "y = np.array([[4,1],[9,10],[12,13]])\n",
    "result = x*y\n",
    "print(\"X: \",x)\n",
    "print(\"Y: \")\n",
    "print(y)\n",
    "print(\"X shape is: \",x.shape)\n",
    "print(\"Y shape is: \",y.shape)\n",
    "print(\"Element-wise multiplication shape:\", result.shape)\n",
    "print(\"Element-wise multiplication result:\")\n",
    "print(result)\n"
   ]
  },
  {
   "cell_type": "markdown",
   "metadata": {},
   "source": [
    "Another very powerful tool in numpy is indexing. You can use either an integer vector or a boolean vector to choose which indexes you want to extract from your numpy tensor.\n",
    "\n",
    "Consider that we want to extract all elements from the first line of your vector y that have a higher value than 1, you would have to do:"
   ]
  },
  {
   "cell_type": "code",
   "execution_count": 41,
   "metadata": {},
   "outputs": [
    {
     "name": "stdout",
     "output_type": "stream",
     "text": [
      "Result:  [4]\n"
     ]
    }
   ],
   "source": [
    "first_row = y[0]\n",
    "first_row_higher_than_one = first_row > 1\n",
    "print(\"Result: \", first_row[first_row_higher_than_one])"
   ]
  },
  {
   "cell_type": "markdown",
   "metadata": {},
   "source": [
    "You can also choose specific lines to query, for example if you want to query lines 0 and 2"
   ]
  },
  {
   "cell_type": "code",
   "execution_count": 42,
   "metadata": {},
   "outputs": [
    {
     "name": "stdout",
     "output_type": "stream",
     "text": [
      "Result:  [ 4 12 13]\n"
     ]
    }
   ],
   "source": [
    "rows = [0,2]\n",
    "rows_result = y[rows]\n",
    "values_higher_than_one = rows_result > 1\n",
    "print(\"Result: \", rows_result[values_higher_than_one])"
   ]
  },
  {
   "cell_type": "markdown",
   "metadata": {},
   "source": [
    "You can also save and load your numpy tensors using np.savez and np.load. This will be really important in the next courses as this enable you to generate your data only once instead of having to do all the calculations every time you need your data."
   ]
  },
  {
   "cell_type": "code",
   "execution_count": 43,
   "metadata": {},
   "outputs": [],
   "source": [
    "filename = \"x.npz\"\n",
    "source_tensor = x\n",
    "np.savez(filename,data=source_tensor)"
   ]
  },
  {
   "cell_type": "code",
   "execution_count": 44,
   "metadata": {},
   "outputs": [
    {
     "name": "stdout",
     "output_type": "stream",
     "text": [
      "Your tensor was loaded and contains:  [2 3]\n"
     ]
    }
   ],
   "source": [
    "loaded_npz = np.load(filename)\n",
    "loaded_tensor = loaded_npz[\"data\"]\n",
    "print(\"Your tensor was loaded and contains: \", loaded_tensor)"
   ]
  },
  {
   "cell_type": "markdown",
   "metadata": {},
   "source": [
    "Part 3 - Setup of the pyrat software and generating games\n",
    "--\n"
   ]
  },
  {
   "cell_type": "markdown",
   "metadata": {},
   "source": [
    "If you have not done so already, you need the latest version of PyRat. To obtain it, clone the [official PyRat repository](https://github.com/BastienPasdeloup/PyRat-1). \n",
    "\n",
    "PS: You will need to have pygame installed in your machine, open a terminal and run:\n",
    "\n",
    "<pre>pip install pygame</pre>"
   ]
  },
  {
   "cell_type": "code",
   "execution_count": null,
   "metadata": {},
   "outputs": [],
   "source": [
    "### TO DO: open a terminal tab / window and clone the repo."
   ]
  },
  {
   "cell_type": "code",
   "execution_count": 34,
   "metadata": {},
   "outputs": [
    {
     "name": "stdout",
     "output_type": "stream",
     "text": [
      "pygame 2.1.2 (SDL 2.0.18, Python 3.7.4)\n",
      "Hello from the pygame community. https://www.pygame.org/contribute.html\n"
     ]
    }
   ],
   "source": [
    "import pygame"
   ]
  },
  {
   "cell_type": "markdown",
   "metadata": {},
   "source": [
    "You can now launch Pyrat Games. \n",
    "\n",
    "In the context of the AI course, we are going to simplify the rules of PyRat a bit.\n",
    "In fact, we are going to remove all walls and mud penalties. Also, we are not going to consider symmetric mazes anymore.\n",
    "\n",
    "As such, a default game is launched with the following parameters. Please try now (note that you may have to type python instead of python3): \n",
    "\n",
    "<pre>python3 pyrat.py -p 40 -md 0 -d 0 --nonsymmetric</pre>\n",
    "\n",
    "An empty labyrinth will appear.\n",
    "\n"
   ]
  },
  {
   "cell_type": "code",
   "execution_count": null,
   "metadata": {},
   "outputs": [],
   "source": [
    "### TO DO: open a terminal tab / window and launch the command"
   ]
  },
  {
   "cell_type": "markdown",
   "metadata": {},
   "source": [
    "Please check out all the options offered by the pyrat software, by running : \n",
    "\n",
    "<pre>python3 pyrat.py -h</pre>\n",
    "\n",
    "Importantly, there are options to change the size of the map, the number of cheese, which will be very useful later to benchmark your own solutions. \n",
    "\n",
    "For example, find the correct command line to launch a game with a 10 by 11 map, with only 10 cheeses. "
   ]
  },
  {
   "cell_type": "code",
   "execution_count": null,
   "metadata": {},
   "outputs": [],
   "source": [
    "### TO DO: open a terminal tab / window and launch the command to generate a game with a 10 by 11 map, with only 10 cheeses. "
   ]
  },
  {
   "cell_type": "markdown",
   "metadata": {},
   "source": [
    "In the supervised and unsupervised projects, we are going to look at plays between two greedy algorithms. Generating 1000 such games while saving data is easily obtained with PyRat. \n",
    "\n",
    "Open another terminal to launch the next command line. Generating 1000 games will take a few minutes.\n",
    "\n",
    "<pre>python3 pyrat.py --width 21 --height 15 -p 40 -md 0 -d 0 --nonsymmetric --rat AIs/manh.py --python AIs/manh.py --tests 1000 --nodrawing --synchronous --save</pre>\n",
    "\n",
    "It is possible to open a terminal window from the \"Home\" Interface of Jupyter Notebook."
   ]
  },
  {
   "cell_type": "markdown",
   "metadata": {},
   "source": [
    "The 1000 generated games will be in the \"saves\" folder. Each time you execute the command new games are added to the saves folder. You have to manually delete the old games if you do not want to use them (for example, if you change the size of the labyrinth or if you want to train your IA on new games)."
   ]
  },
  {
   "cell_type": "code",
   "execution_count": null,
   "metadata": {},
   "outputs": [],
   "source": [
    "### TO DO: open a terminal tab / window and launch the command to generate the games."
   ]
  },
  {
   "cell_type": "markdown",
   "metadata": {},
   "source": [
    "We will now convert the result in order to open it with numpy.\n",
    "\n",
    "To convert the games into numpy arrays, we use a few functions that we define here. Feel free to modify it later to your own needs."
   ]
  },
  {
   "cell_type": "code",
   "execution_count": 36,
   "metadata": {},
   "outputs": [],
   "source": [
    "import os\n",
    "import tqdm\n",
    "import ast\n",
    "\n",
    "mazeHeight = 15\n",
    "mazeWidth = 21\n",
    "\n",
    "\n",
    "def convert_input(maze, mazeWidth, mazeHeight, piecesOfCheese):\n",
    "    im_size = (mazeWidth, mazeHeight) \n",
    "    canvas = np.zeros(im_size,dtype=np.int8)\n",
    "    for (x_cheese,y_cheese) in piecesOfCheese:\n",
    "        canvas[x_cheese,y_cheese] = 1\n",
    "    # to use it with sklearn, we flatten the matrix into an vector\n",
    "    return canvas.ravel()\n",
    "\n",
    "\n",
    "PHRASES = {\n",
    "    \"# Random seed\\n\": \"seed\",\n",
    "    \"# MazeMap\\n\": \"maze\",\n",
    "    \"# Pieces of cheese\\n\": \"pieces\"    ,\n",
    "    \"# Rat initial location\\n\": \"rat\"    ,\n",
    "    \"# Python initial location\\n\": \"python\"   , \n",
    "    \"rat_location then python_location then pieces_of_cheese then rat_decision then python_decision\\n\": \"play\"\n",
    "}\n",
    " \n",
    "MOVE_DOWN = 'D'\n",
    "MOVE_LEFT = 'L'\n",
    "MOVE_RIGHT = 'R'\n",
    "MOVE_UP = 'U'\n",
    " \n",
    "translate_action = {\n",
    "    MOVE_LEFT:0,\n",
    "    MOVE_RIGHT:1,\n",
    "    MOVE_UP:2,\n",
    "    MOVE_DOWN:3\n",
    "}\n",
    "\n",
    " \n",
    "def process_file(filename):\n",
    "    f = open(filename,\"r\")    \n",
    "    info = f.readline()\n",
    "    params = dict(play=list())\n",
    "    while info is not None:\n",
    "        if info.startswith(\"{\"):\n",
    "            params[\"end\"] = ast.literal_eval(info)\n",
    "            break\n",
    "        if \"turn \" in info:\n",
    "            info = info[info.find('rat_location'):]\n",
    "        if info in PHRASES.keys():\n",
    "            param = PHRASES[info]\n",
    "            if param == \"play\":\n",
    "                rat = ast.literal_eval(f.readline())\n",
    "                python = ast.literal_eval(f.readline())\n",
    "                pieces = ast.literal_eval(f.readline())\n",
    "                rat_decision = f.readline().replace(\"\\n\",\"\")\n",
    "                python_decision = f.readline().replace(\"\\n\",\"\")\n",
    "                play_dict = dict(\n",
    "                    rat=rat,python=python,piecesOfCheese=pieces,\n",
    "                    rat_decision=rat_decision,python_decision=python_decision)\n",
    "                params[param].append(play_dict)\n",
    "            else:\n",
    "                params[param] = ast.literal_eval(f.readline())\n",
    "        else:\n",
    "            print(\"did not understand:\", info)\n",
    "            break\n",
    "        info = f.readline()\n",
    "    return params"
   ]
  },
  {
   "cell_type": "markdown",
   "metadata": {},
   "source": [
    "Now, we are ready to parse the \"saves\" folder in order to generate the data into a numpy array. "
   ]
  },
  {
   "cell_type": "code",
   "execution_count": 48,
   "metadata": {},
   "outputs": [],
   "source": [
    "## set your path to the saves folder here\n",
    "directory =  'D:\\PyRat-1\\saves\\\\'\n"
   ]
  },
  {
   "cell_type": "code",
   "execution_count": 49,
   "metadata": {
    "tags": []
   },
   "outputs": [
    {
     "name": "stderr",
     "output_type": "stream",
     "text": [
      "100%|██████████████████████████████████████████████████████████████████████████████| 1001/1001 [00:32<00:00, 30.74it/s]\n",
      "100%|████████████████████████████████████████████████████████████████████████████| 1000/1000 [00:00<00:00, 2777.58it/s]\n"
     ]
    }
   ],
   "source": [
    "games = list()\n",
    "\n",
    "for root, dirs, files in os.walk(directory):\n",
    "    for filename in tqdm.tqdm(files):\n",
    "        try:\n",
    "            if filename.startswith(\".\"):\n",
    "                continue\n",
    "            game_params = process_file(directory+filename)\n",
    "            games.append(game_params)\n",
    "        except:\n",
    "            print(\"Filename {} did not work\".format(filename))\n",
    "\n",
    "x = np.array([]).reshape(0,mazeWidth * mazeHeight)\n",
    "y = np.array([]).reshape(0,1)\n",
    "wins_python = 0\n",
    "wins_rat = 0\n",
    "for game in tqdm.tqdm(games):\n",
    "    if game[\"end\"][\"win_python\"] == 1: \n",
    "        wins_python += 1\n",
    "    elif game[\"end\"][\"win_rat\"] == 1:\n",
    "        wins_rat += 1    \n",
    "    canvas = convert_input(game[\"maze\"], mazeWidth, mazeHeight, game[\"play\"][0][\"piecesOfCheese\"])\n",
    "    if game[\"end\"][\"win_python\"] == 1:\n",
    "        y = np.append(y,1)\n",
    "    elif game[\"end\"][\"win_rat\"] == 1:\n",
    "        y = np.append(y,-1)\n",
    "    else:\n",
    "        y = np.append(y,0)\n",
    "    x = np.concatenate([x, canvas.reshape(1,-1)], axis=0)"
   ]
  },
  {
   "cell_type": "markdown",
   "metadata": {},
   "source": [
    "x and y are numpy array, feel free to save them to a .npz file as seen in TP0. "
   ]
  },
  {
   "cell_type": "code",
   "execution_count": 56,
   "metadata": {},
   "outputs": [
    {
     "name": "stdout",
     "output_type": "stream",
     "text": [
      "Shape of x is (1000, 315).\n",
      "Shape of y is (1000,).\n"
     ]
    }
   ],
   "source": [
    "### CELL TO BE COMPLETED\n",
    "### CHECK THE SHAPES OF X AND Y\n",
    "print(f'Shape of x is {x.shape}.\\nShape of y is {y.shape}.')\n",
    "### SAVE X AND Y IN A NPZ FILE\n",
    "np.savez(\"X.npz\",data=x)\n",
    "np.savez(\"Y.npz\",data=y)"
   ]
  },
  {
   "cell_type": "markdown",
   "metadata": {},
   "source": [
    "Part 4 - Visualizing PyRat Datasets\n",
    "--"
   ]
  },
  {
   "cell_type": "markdown",
   "metadata": {},
   "source": [
    "You now have to load the pyrat dataset that you just saved (or you can open the one we provide, \"dataset.npz\"). \n",
    "\n",
    "It contains two variables named \"x\" and \"y\". You should store them in variables named x_pyrat and y_pyrat."
   ]
  },
  {
   "cell_type": "code",
   "execution_count": 62,
   "metadata": {},
   "outputs": [
    {
     "name": "stdout",
     "output_type": "stream",
     "text": [
      "Your tensor was loaded and contains:  [[0. 0. 0. ... 0. 1. 0.]\n",
      " [0. 1. 0. ... 0. 0. 0.]\n",
      " [0. 0. 0. ... 0. 0. 0.]\n",
      " ...\n",
      " [0. 0. 1. ... 0. 0. 0.]\n",
      " [0. 0. 1. ... 0. 0. 0.]\n",
      " [0. 1. 0. ... 0. 0. 0.]]\n",
      "Your tensor was loaded and contains:  [-1.  0.  1. -1. -1. -1.  0.  1. -1.  1.  1. -1.  1. -1.  1. -1.  1.  1.\n",
      " -1. -1.  1.  1.  0.  1.  1. -1.  1.  1. -1.  1. -1.  1. -1. -1. -1. -1.\n",
      "  1.  1. -1.  1.  1.  1.  1.  1. -1. -1.  1. -1. -1.  1.  1.  1.  1. -1.\n",
      "  1. -1.  1.  0.  1.  1.  1. -1.  1. -1.  1.  1.  1.  0. -1. -1.  0. -1.\n",
      " -1. -1.  1.  1. -1. -1. -1.  1. -1.  1. -1.  0. -1.  1. -1. -1.  1. -1.\n",
      " -1. -1. -1. -1.  0. -1.  1. -1.  0. -1.  0. -1.  1.  1.  1. -1.  1.  1.\n",
      "  1. -1. -1.  1.  1. -1.  1.  1. -1.  1.  0.  0.  1.  1. -1. -1.  1.  1.\n",
      "  1. -1. -1. -1. -1. -1.  1. -1.  0.  1. -1. -1.  1. -1. -1. -1.  1.  1.\n",
      " -1. -1.  1.  1. -1. -1.  1.  1. -1.  1. -1.  0.  1.  0. -1. -1. -1.  1.\n",
      " -1.  1. -1.  1.  1.  1. -1.  1.  1.  0. -1.  1.  0.  1. -1.  1. -1.  0.\n",
      " -1.  1. -1. -1. -1.  1. -1.  1. -1. -1. -1.  1.  1. -1.  1.  1.  0.  1.\n",
      "  1. -1.  1. -1. -1.  1.  1. -1. -1. -1. -1. -1.  1. -1.  1.  0.  1.  1.\n",
      "  1.  1.  1. -1. -1.  1. -1. -1. -1.  1. -1.  1.  1. -1.  1.  1. -1.  1.\n",
      " -1.  1. -1. -1. -1. -1.  0. -1. -1. -1.  1.  0.  1. -1. -1.  1.  1. -1.\n",
      " -1.  0.  1.  1.  0.  1.  0.  1. -1.  1.  0.  0.  1.  1.  0.  1.  1.  1.\n",
      " -1. -1. -1.  1.  1.  1. -1.  1.  1.  1. -1. -1. -1.  1. -1. -1.  1. -1.\n",
      "  1. -1.  1. -1.  1.  1.  0. -1. -1.  1.  1.  0.  1.  0.  1. -1.  1.  0.\n",
      "  0. -1. -1. -1. -1.  0. -1.  1. -1. -1.  1.  1. -1. -1. -1. -1. -1.  0.\n",
      "  1. -1. -1. -1.  1.  1. -1. -1. -1.  1.  1. -1.  1. -1.  1. -1. -1.  1.\n",
      " -1. -1.  1.  1.  0.  1.  0. -1. -1.  1.  1.  0. -1. -1. -1. -1.  1. -1.\n",
      " -1.  1.  1.  1.  1. -1.  1. -1.  1.  0. -1.  1.  1. -1.  0.  1.  0.  1.\n",
      "  1. -1.  1.  1. -1. -1. -1.  1.  1.  1. -1.  1. -1. -1. -1. -1.  0.  1.\n",
      " -1.  0. -1.  1.  0. -1. -1.  1. -1. -1.  1. -1.  1.  1.  1. -1.  1. -1.\n",
      " -1. -1.  1.  1. -1. -1. -1.  1.  1.  1.  0. -1.  0. -1.  1. -1.  1. -1.\n",
      "  1. -1.  1. -1. -1. -1. -1.  1.  0. -1.  1.  1.  0.  1.  1. -1. -1.  0.\n",
      "  1.  1. -1.  0. -1. -1.  1. -1. -1.  1. -1.  1.  0.  1. -1.  1. -1.  1.\n",
      "  1.  1. -1.  0.  1.  0. -1. -1. -1.  1.  1.  1. -1. -1.  1.  1. -1. -1.\n",
      "  1.  1. -1.  0. -1. -1. -1. -1. -1. -1.  1. -1.  0. -1. -1. -1. -1. -1.\n",
      " -1.  1. -1.  1. -1.  1. -1. -1.  1. -1. -1. -1. -1.  1. -1.  1. -1.  1.\n",
      " -1.  1. -1.  0.  1. -1. -1.  1.  1. -1. -1. -1.  1.  0.  1.  1.  1.  1.\n",
      "  0. -1.  1.  1. -1.  0.  1.  1. -1. -1.  1.  1.  1. -1.  0.  0. -1. -1.\n",
      "  1.  1. -1.  1.  1.  1. -1. -1. -1. -1. -1. -1.  0.  1. -1.  1.  1. -1.\n",
      "  1. -1.  0.  1.  1.  1. -1. -1.  1. -1. -1.  1.  1. -1.  1. -1.  1.  1.\n",
      "  1.  1.  1. -1.  1.  1.  1.  1.  1.  1.  0.  1.  1. -1.  1. -1.  1.  1.\n",
      "  1.  1. -1.  1.  0.  1. -1. -1. -1. -1.  1. -1. -1.  0. -1. -1. -1.  1.\n",
      " -1.  1. -1.  1. -1.  1. -1.  1.  1.  1.  1. -1.  0.  1. -1. -1.  1. -1.\n",
      "  1. -1. -1. -1.  0.  1.  1. -1.  1.  1.  1. -1. -1. -1.  1.  1. -1.  1.\n",
      "  1. -1.  1. -1.  1.  1. -1.  1.  1. -1.  1. -1.  0. -1.  1. -1. -1. -1.\n",
      "  1.  0.  1. -1. -1.  1. -1.  1. -1.  1.  1. -1.  1. -1.  1.  1.  0. -1.\n",
      "  1. -1.  1.  1. -1. -1. -1. -1.  0.  1. -1.  1. -1.  1. -1. -1.  1.  1.\n",
      " -1.  1.  1. -1. -1.  0.  0. -1.  1. -1. -1. -1.  1. -1.  1. -1.  1. -1.\n",
      " -1.  1.  1. -1. -1.  0.  1.  1.  1.  1.  1. -1. -1. -1. -1.  0. -1. -1.\n",
      " -1.  0.  1.  1.  0.  0.  1.  0.  0. -1. -1.  1.  0. -1. -1.  1. -1.  1.\n",
      "  0.  1. -1. -1.  1.  1.  1.  1. -1.  1. -1.  1.  1. -1.  1.  1.  1. -1.\n",
      "  0.  1. -1.  1. -1. -1.  1.  1. -1. -1. -1.  1.  1.  1.  1.  1.  0. -1.\n",
      "  1.  1. -1. -1.  1.  1. -1.  1.  1. -1.  1. -1.  0. -1.  1.  1.  1. -1.\n",
      "  0. -1. -1.  1.  1. -1.  1.  1. -1. -1. -1.  1.  0.  1.  1.  1. -1. -1.\n",
      " -1.  0.  1. -1. -1. -1.  1.  1.  1. -1. -1.  1.  1.  0. -1.  1. -1.  0.\n",
      "  1. -1. -1. -1.  1.  0.  1.  1. -1. -1.  1.  0.  1.  1.  1. -1. -1.  1.\n",
      " -1.  1. -1. -1. -1. -1.  1. -1.  1. -1.  1. -1.  0. -1.  1. -1.  1.  1.\n",
      "  1. -1. -1.  0.  1. -1. -1. -1.  0. -1.  0. -1.  0. -1.  1.  1. -1.  1.\n",
      "  1. -1.  1.  1.  1.  1. -1. -1. -1. -1. -1.  1. -1.  1.  1.  1. -1.  1.\n",
      "  1. -1. -1.  1. -1.  1.  0. -1.  0.  1.  0. -1.  1.  1.  0.  1.  1.  0.\n",
      "  1.  1.  1.  1.  0. -1. -1.  1. -1.  0. -1. -1. -1.  0. -1.  1.  1.  1.\n",
      " -1. -1.  0. -1.  1. -1. -1. -1. -1. -1. -1. -1. -1.  1.  1.  1. -1. -1.\n",
      "  0.  0.  1. -1.  1.  1. -1.  1.  1. -1.]\n"
     ]
    }
   ],
   "source": [
    "### CELL TO BE COMPLETED\n",
    "\n",
    "# Load x\n",
    "loaded_x = np.load(\"X.npz\")\n",
    "x_pyrat = loaded_x[\"data\"]\n",
    "print(\"Your tensor was loaded and contains: \", x_pyrat)\n",
    "\n",
    "# Load y\n",
    "loaded_y = np.load(\"Y.npz\")\n",
    "y_pyrat = loaded_y[\"data\"]\n",
    "print(\"Your tensor was loaded and contains: \", y_pyrat)"
   ]
  },
  {
   "cell_type": "markdown",
   "metadata": {},
   "source": [
    "Now with the dataset loaded we can explore it using matplotlib. Matplotlib is a very powerful python graphics display library.\n",
    "\n",
    "We are going to be showing the games initial state and the winner of each match. The games are represented by two variables X and Y.\n",
    "\n",
    "X is a matrix with 1000 examples of length 315. Each example can be resized to the real maze shape of 21 by 15. Each data point of the example vector has two possible values. 1 for presence of cheese and 0 for absence of cheese. \n",
    "\n",
    "Y is a scalar integer that ranges from -1 to 1. 1 represents a win by the python, 0 a draw and -1 a win for the rat.\n",
    "\n",
    "The magic command \"%matplotlib inline\" tells jupyter notebook to display the plot results in the document, instead of opening a separate window."
   ]
  },
  {
   "cell_type": "markdown",
   "metadata": {},
   "source": [
    "Now it is your turn. Reshape the x_pyrat matrix into a tensor of (examples,mazeWidth, mazeHeight) and put it into a variable x_labyrinth"
   ]
  },
  {
   "cell_type": "code",
   "execution_count": 73,
   "metadata": {},
   "outputs": [
    {
     "name": "stdout",
     "output_type": "stream",
     "text": [
      "x_labyrinth is x_pyrat reshaped to 1000 x 21 x 15\n",
      "[[[0. 0. 0. ... 0. 0. 0.]\n",
      "  [0. 0. 0. ... 0. 0. 0.]\n",
      "  [0. 0. 0. ... 0. 0. 0.]\n",
      "  ...\n",
      "  [0. 1. 0. ... 0. 0. 0.]\n",
      "  [1. 1. 0. ... 0. 0. 0.]\n",
      "  [0. 0. 0. ... 0. 1. 0.]]\n",
      "\n",
      " [[0. 1. 0. ... 0. 0. 0.]\n",
      "  [0. 1. 1. ... 0. 0. 1.]\n",
      "  [0. 0. 0. ... 0. 0. 0.]\n",
      "  ...\n",
      "  [0. 0. 0. ... 0. 0. 0.]\n",
      "  [0. 0. 0. ... 0. 0. 0.]\n",
      "  [0. 0. 0. ... 0. 0. 0.]]\n",
      "\n",
      " [[0. 0. 0. ... 0. 0. 0.]\n",
      "  [0. 0. 0. ... 0. 1. 0.]\n",
      "  [1. 0. 0. ... 0. 0. 0.]\n",
      "  ...\n",
      "  [1. 0. 0. ... 0. 0. 0.]\n",
      "  [0. 0. 0. ... 0. 0. 0.]\n",
      "  [0. 0. 0. ... 0. 0. 0.]]\n",
      "\n",
      " ...\n",
      "\n",
      " [[0. 0. 1. ... 0. 0. 0.]\n",
      "  [0. 0. 0. ... 1. 1. 0.]\n",
      "  [0. 0. 0. ... 0. 0. 0.]\n",
      "  ...\n",
      "  [0. 0. 0. ... 0. 0. 0.]\n",
      "  [0. 0. 0. ... 0. 0. 0.]\n",
      "  [1. 0. 0. ... 0. 0. 0.]]\n",
      "\n",
      " [[0. 0. 1. ... 0. 1. 0.]\n",
      "  [0. 0. 1. ... 1. 0. 0.]\n",
      "  [0. 0. 0. ... 0. 0. 0.]\n",
      "  ...\n",
      "  [1. 0. 0. ... 0. 1. 1.]\n",
      "  [1. 0. 0. ... 0. 0. 1.]\n",
      "  [1. 0. 1. ... 0. 0. 0.]]\n",
      "\n",
      " [[0. 1. 0. ... 0. 0. 0.]\n",
      "  [0. 1. 0. ... 0. 0. 0.]\n",
      "  [0. 0. 0. ... 0. 0. 0.]\n",
      "  ...\n",
      "  [0. 0. 0. ... 0. 1. 0.]\n",
      "  [0. 0. 0. ... 1. 0. 0.]\n",
      "  [0. 0. 0. ... 0. 0. 0.]]]\n"
     ]
    }
   ],
   "source": [
    "### CELL TO BE COMPLETED \n",
    "x_labyrinth = x_pyrat.reshape((1000, 21, 15))\n",
    "print('x_labyrinth is x_pyrat reshaped to %d x %d x %d' % (x_labyrinth.shape[0],x_labyrinth.shape[1],x_labyrinth.shape[2]))\n",
    "print(x_labyrinth)"
   ]
  },
  {
   "cell_type": "code",
   "execution_count": 64,
   "metadata": {},
   "outputs": [],
   "source": [
    "import matplotlib.pyplot as plt\n",
    "%matplotlib inline"
   ]
  },
  {
   "cell_type": "code",
   "execution_count": 65,
   "metadata": {},
   "outputs": [
    {
     "data": {
      "text/plain": [
       "<matplotlib.colorbar.Colorbar at 0x2128b4d5f48>"
      ]
     },
     "execution_count": 65,
     "metadata": {},
     "output_type": "execute_result"
    },
    {
     "data": {
      "image/png": "[encoded data removed]",
      "text/plain": [
       "<Figure size 1440x720 with 6 Axes>"
      ]
     },
     "metadata": {
      "needs_background": "light"
     },
     "output_type": "display_data"
    }
   ],
   "source": [
    "afew = 5 # Number of samples\n",
    "fig, axis = plt.subplots(1,afew,figsize=(20,10)) # Generate a new figure with one row of 5 plots. We also set the size 20,10\n",
    "for i in range(afew):\n",
    "    ind = np.random.randint(x_labyrinth.shape[0]) #sample a game\n",
    "    ax = axis[i] # get the corresponding axis to use\n",
    "    img = ax.matshow(x_labyrinth[ind].T) #Show the matrix as an image (With .T, we transpose the width dimension and the height dimension to see the game as plotted by the PyRat software.)\n",
    "    \n",
    "    ax.set_title('Winner : {}'.format(y_pyrat[ind])) # Set the axis title with the game winner\n",
    "\n",
    "#Invert all of the y axis so that we see the game in the same direction than in the Pyrat software \n",
    "[ax.invert_yaxis() for ax in axis]\n",
    "\n",
    "fig.colorbar(img,ax=axis) # add a colorbar for each image"
   ]
  },
  {
   "cell_type": "markdown",
   "metadata": {},
   "source": [
    "In the plots above, the cheeses (1) are pictured in yellow, while the empty squares are represented in blue."
   ]
  },
  {
   "cell_type": "markdown",
   "metadata": {},
   "source": [
    "# Exercise\n",
    "\n",
    "Now with all the knowledge you acquired today you can start doing some analysis. \n",
    "\n",
    "Compute the average initial configuration of the game for each situation (rat win, draw, python win) and plotting them side by side. "
   ]
  },
  {
   "cell_type": "code",
   "execution_count": 70,
   "metadata": {},
   "outputs": [],
   "source": [
    "### CELL TO BE COMPLETED\n",
    "mode_matrices = np.zeros((3, 21, 15))"
   ]
  },
  {
   "cell_type": "code",
   "execution_count": 82,
   "metadata": {},
   "outputs": [
    {
     "name": "stdout",
     "output_type": "stream",
     "text": [
      "438\n",
      "453\n",
      "109\n"
     ]
    }
   ],
   "source": [
    "pythons = []\n",
    "draws = []\n",
    "rats = []\n",
    "\n",
    "for i, matrix in enumerate(x_labyrinth):\n",
    "    if y_pyrat[i] == 1: # Python wins\n",
    "        pythons.append(matrix)\n",
    "        #print(matrix)\n",
    "    elif y_pyrat[i] == -1: # Rat wins\n",
    "        rats.append(matrix)\n",
    "        #print(matrix)\n",
    "    else: # Draw\n",
    "        draws.append(matrix)\n",
    "        \n",
    "pythons = np.array(pythons)\n",
    "rats = np.array(rats)\n",
    "draws = np.array(draws)\n",
    "\n",
    "print(len(pythons))\n",
    "print(len(rats))\n",
    "print(len(draws))"
   ]
  },
  {
   "cell_type": "code",
   "execution_count": 90,
   "metadata": {},
   "outputs": [],
   "source": [
    "from scipy import stats\n",
    "from scipy import mean"
   ]
  },
  {
   "cell_type": "code",
   "execution_count": 98,
   "metadata": {},
   "outputs": [
    {
     "name": "stdout",
     "output_type": "stream",
     "text": [
      "(21, 15)\n"
     ]
    }
   ],
   "source": [
    "#m = stats.mode(rats)\n",
    "m = np.mean(rats, (0))\n",
    "print(m.shape)"
   ]
  },
  {
   "cell_type": "code",
   "execution_count": 102,
   "metadata": {},
   "outputs": [],
   "source": [
    "pythons_mean = pythons.mean(0)\n",
    "rats_mean = rats.mean(0)\n",
    "draws_mean = draws.mean(0)\n",
    "\n",
    "mean_list = [pythons_mean, rats_mean, draws_mean]"
   ]
  },
  {
   "cell_type": "code",
   "execution_count": 104,
   "metadata": {
    "scrolled": true
   },
   "outputs": [
    {
     "data": {
      "text/plain": [
       "<matplotlib.colorbar.Colorbar at 0x2128b805148>"
      ]
     },
     "execution_count": 104,
     "metadata": {},
     "output_type": "execute_result"
    },
    {
     "data": {
      "image/png": "[encoded data removed]",
      "text/plain": [
       "<Figure size 1440x720 with 4 Axes>"
      ]
     },
     "metadata": {
      "needs_background": "light"
     },
     "output_type": "display_data"
    }
   ],
   "source": [
    "### CELL TO BE COMPLETED \n",
    "afew = 3 # Number of samples\n",
    "fig, axis = plt.subplots(1,afew,figsize=(20,10)) # Generate a new figure with one row of 5 plots. We also set the size 20,10\n",
    "for i, matrix in enumerate(mean_list):\n",
    "    #ind = np.random.randint(x_labyrinth.shape[0]) #sample a game\n",
    "    ax = axis[i] # get the corresponding axis to use\n",
    "    img = ax.matshow(matrix.T) #Show the matrix as an image (With .T, we transpose the width dimension and the height dimension to see the game as plotted by the PyRat software.)\n",
    "    \n",
    "    #ax.set_title('Winner : {}'.format(y_pyrat[ind])) # Set the axis title with the game winner\n",
    "\n",
    "#Invert all of the y axis so that we see the game in the same direction than in the Pyrat software \n",
    "[ax.invert_yaxis() for ax in axis]\n",
    "\n",
    "fig.colorbar(img,ax=axis) # add a colorbar for each image"
   ]
  }
 ],
 "metadata": {
  "kernelspec": {
   "display_name": "Python 3",
   "language": "python",
   "name": "python3"
  },
  "language_info": {
   "codemirror_mode": {
    "name": "ipython",
    "version": 3
   },
   "file_extension": ".py",
   "mimetype": "text/x-python",
   "name": "python",
   "nbconvert_exporter": "python",
   "pygments_lexer": "ipython3",
   "version": "3.7.4"
  }
 },
 "nbformat": 4,
 "nbformat_minor": 4
}
